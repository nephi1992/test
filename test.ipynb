{
 "cells": [
  {
   "cell_type": "code",
   "execution_count": 1,
   "metadata": {
    "collapsed": false
   },
   "outputs": [],
   "source": [
    "import numpy as np\n",
    "import pandas as pd\n",
    "\n"
   ]
  },
  {
   "cell_type": "markdown",
   "metadata": {
    "collapsed": false
   },
   "source": [
    "# 1. "
   ]
  },
  {
   "cell_type": "code",
   "execution_count": 7,
   "metadata": {
    "collapsed": false
   },
   "outputs": [
    {
     "name": "stdout",
     "output_type": "stream",
     "text": [
      " 10000011 279827136 4244874509 bookings.csv\r\n"
     ]
    }
   ],
   "source": [
    "!wc bookings.csv"
   ]
  },
  {
   "cell_type": "code",
   "execution_count": 8,
   "metadata": {
    "collapsed": false
   },
   "outputs": [
    {
     "name": "stdout",
     "output_type": "stream",
     "text": [
      " 20390198 20496592 3696229366 searches.csv\r\n"
     ]
    }
   ],
   "source": [
    "!wc searches.csv"
   ]
  },
  {
   "cell_type": "markdown",
   "metadata": {},
   "source": [
    "# 2. "
   ]
  },
  {
   "cell_type": "code",
   "execution_count": 3,
   "metadata": {
    "collapsed": false
   },
   "outputs": [],
   "source": [
    "import itertools\n",
    "\n",
    "def slicefile(filename, start, end):\n",
    "    lines = open(filename)\n",
    "    return itertools.islice(lines, start, end)"
   ]
  },
  {
   "cell_type": "code",
   "execution_count": 43,
   "metadata": {
    "collapsed": false
   },
   "outputs": [
    {
     "name": "stdout",
     "output_type": "stream",
     "text": [
      "file 0started\n",
      "file 0 finished\n",
      "file 10000started\n",
      "file 10000 finished\n"
     ]
    }
   ],
   "source": [
    "#way1\n",
    "num = 10000011\n",
    "step = 100000\n",
    "for i in range(0,num, step):\n",
    "    print 'file '+str(i)+' started'\n",
    "    out = open('tables/bookings_'+str(i)+'.csv', \"w\")\n",
    "    for line in slicefile(\"bookings.csv\", i+1, i+step):\n",
    "        out.writelines(line.replace('^', ';').split('\\n'))\n",
    "    print 'file '+str(i)+' finished'"
   ]
  },
  {
   "cell_type": "code",
   "execution_count": null,
   "metadata": {
    "collapsed": false
   },
   "outputs": [],
   "source": [
    "#way2\n",
    "LINES_TO_FLUSH = 100000\n",
    "with open(\"/Users/nephidei/Downloads/bookings.csv\") as source_file:\n",
    "    out_buf = []\n",
    "    out_index = 1\n",
    "    for i, line in enumerate(source_file):\n",
    "        #print 'file '+str(i)+' started'\n",
    "        out_buf.append(line)\n",
    "        if len(out_buf) == LINES_TO_FLUSH:\n",
    "            with open('tables/bookings_'+str(out_index)+'.csv', \"w\") as part_file:\n",
    "                part_file.writelines(out_buf)\n",
    "            out_index += 1\n",
    "            out_buf = []  "
   ]
  },
  {
   "cell_type": "code",
   "execution_count": 50,
   "metadata": {
    "collapsed": false
   },
   "outputs": [],
   "source": [
    "table_names = list(slicefile(\"bookings.csv\", 0, 1))[0].rstrip().replace('^', ';')\n"
   ]
  },
  {
   "cell_type": "code",
   "execution_count": null,
   "metadata": {
    "collapsed": false
   },
   "outputs": [],
   "source": []
  },
  {
   "cell_type": "code",
   "execution_count": null,
   "metadata": {
    "collapsed": false
   },
   "outputs": [],
   "source": []
  },
  {
   "cell_type": "code",
   "execution_count": null,
   "metadata": {
    "collapsed": true
   },
   "outputs": [],
   "source": []
  }
 ],
 "metadata": {
  "kernelspec": {
   "display_name": "Python 2",
   "language": "python",
   "name": "python2"
  },
  "language_info": {
   "codemirror_mode": {
    "name": "ipython",
    "version": 2
   },
   "file_extension": ".py",
   "mimetype": "text/x-python",
   "name": "python",
   "nbconvert_exporter": "python",
   "pygments_lexer": "ipython2",
   "version": "2.7.5"
  }
 },
 "nbformat": 4,
 "nbformat_minor": 0
}
