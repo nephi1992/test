{
 "cells": [
  {
   "cell_type": "code",
   "execution_count": 1,
   "metadata": {
    "collapsed": false
   },
   "outputs": [],
   "source": [
    "import numpy as np\n",
    "import pandas as pd\n",
    "\n"
   ]
  },
  {
   "cell_type": "markdown",
   "metadata": {
    "collapsed": false
   },
   "source": [
    "# 1. num of lines"
   ]
  },
  {
   "cell_type": "code",
   "execution_count": 23,
   "metadata": {
    "collapsed": false
   },
   "outputs": [
    {
     "name": "stdout",
     "output_type": "stream",
     "text": [
      " 10000011 279827136 4244874509 /Users/nephidei/Downloads/bookings.csv\r\n"
     ]
    }
   ],
   "source": [
    "!wc /Users/nephidei/Downloads/bookings.csv"
   ]
  },
  {
   "cell_type": "code",
   "execution_count": 24,
   "metadata": {
    "collapsed": false
   },
   "outputs": [
    {
     "name": "stdout",
     "output_type": "stream",
     "text": [
      " 20390198 20496592 3696229366 /Users/nephidei/Downloads/searches.csv\r\n"
     ]
    }
   ],
   "source": [
    "!wc /Users/nephidei/Downloads/searches.csv"
   ]
  },
  {
   "cell_type": "markdown",
   "metadata": {},
   "source": [
    "# 2. top airports"
   ]
  },
  {
   "cell_type": "markdown",
   "metadata": {},
   "source": [
    "## 2.1. make small parts of data"
   ]
  },
  {
   "cell_type": "code",
   "execution_count": 2,
   "metadata": {
    "collapsed": false
   },
   "outputs": [],
   "source": [
    "import itertools\n",
    "\n",
    "def slicefile(filename, start, end):\n",
    "    lines = open(filename)\n",
    "    return itertools.islice(lines, start, end)"
   ]
  },
  {
   "cell_type": "code",
   "execution_count": 10,
   "metadata": {
    "collapsed": false
   },
   "outputs": [],
   "source": [
    "#way1\n",
    "num = 10000011\n",
    "step = 100000\n",
    "for i in range(0,num, step):\n",
    "    print 'file '+str(i)+' started'\n",
    "    out = open('tables/bookings_'+str(i)+'.csv', \"w\")\n",
    "    for line in slicefile(\"/Users/nephidei/Downloads/bookinhs.csv\", i+1, i+step):\n",
    "        out.writelines(line.replace('^', ';').split('\\n'))\n",
    "    print 'file '+str(i)+' finished'"
   ]
  },
  {
   "cell_type": "code",
   "execution_count": 3,
   "metadata": {
    "collapsed": false
   },
   "outputs": [
    {
     "name": "stdout",
     "output_type": "stream",
     "text": [
      "101\n"
     ]
    }
   ],
   "source": [
    "#way2\n",
    "LINES_TO_FLUSH = 100000\n",
    "with open(\"/Users/nephidei/Downloads/bookings.csv\") as source_file:\n",
    "    out_buf = []\n",
    "    out_index = 1\n",
    "    for i, line in enumerate(source_file):\n",
    "        if i == 0:\n",
    "            continue\n",
    "        #print 'file '+str(i)+' started'\n",
    "        out_buf.append(line.replace('^', ';'))\n",
    "        if len(out_buf) == LINES_TO_FLUSH:\n",
    "            with open('tables/bookings_'+str(out_index)+'.csv', \"w\") as part_file:\n",
    "                part_file.writelines(out_buf)\n",
    "            out_index += 1\n",
    "            out_buf = []  \n",
    "    print out_index "
   ]
  },
  {
   "cell_type": "code",
   "execution_count": 4,
   "metadata": {
    "collapsed": false
   },
   "outputs": [
    {
     "name": "stdout",
     "output_type": "stream",
     "text": [
      "['act_date', 'source', 'pos_ctry', 'pos_iata', 'pos_oid', 'rloc', 'cre_date', 'duration', 'distance', 'dep_port', 'dep_city', 'dep_ctry', 'arr_port', 'arr_city', 'arr_ctry', 'lst_port', 'lst_city', 'lst_ctry', 'brd_port', 'brd_city', 'brd_ctry', 'off_port', 'off_city', 'off_ctry', 'mkt_port', 'mkt_city', 'mkt_ctry', 'intl', 'route', 'carrier', 'bkg_class', 'cab_class', 'brd_time', 'off_time', 'pax', 'year', 'month', 'oid']\n"
     ]
    }
   ],
   "source": [
    "table_names = list(slicefile(\"/Users/nephidei/Downloads/bookings.csv\", 0, 1))[0].rstrip().replace('^', ';').split(';')\n",
    "for i,name in enumerate(table_names):\n",
    "    table_names[i] = name.replace(' ', '')\n",
    "\n",
    "print table_names\n"
   ]
  },
  {
   "cell_type": "code",
   "execution_count": 5,
   "metadata": {
    "collapsed": false
   },
   "outputs": [
    {
     "data": {
      "text/html": [
       "<div style=\"max-height:1000px;max-width:1500px;overflow:auto;\">\n",
       "<table border=\"1\" class=\"dataframe\">\n",
       "  <thead>\n",
       "    <tr style=\"text-align: right;\">\n",
       "      <th></th>\n",
       "      <th>act_date</th>\n",
       "      <th>source</th>\n",
       "      <th>pos_ctry</th>\n",
       "      <th>pos_iata</th>\n",
       "      <th>pos_oid</th>\n",
       "      <th>rloc</th>\n",
       "      <th>cre_date</th>\n",
       "      <th>duration</th>\n",
       "      <th>distance</th>\n",
       "      <th>dep_port</th>\n",
       "      <th>...</th>\n",
       "      <th>route</th>\n",
       "      <th>carrier</th>\n",
       "      <th>bkg_class</th>\n",
       "      <th>cab_class</th>\n",
       "      <th>brd_time</th>\n",
       "      <th>off_time</th>\n",
       "      <th>pax</th>\n",
       "      <th>year</th>\n",
       "      <th>month</th>\n",
       "      <th>oid</th>\n",
       "    </tr>\n",
       "  </thead>\n",
       "  <tbody>\n",
       "    <tr>\n",
       "      <th>0</th>\n",
       "      <td> 2013-03-05 00:00:00</td>\n",
       "      <td> 1A    </td>\n",
       "      <td> DE      </td>\n",
       "      <td> a68dd7ae953c8acfb187a1af2dcbe123</td>\n",
       "      <td> 1a11ae49fcbf545fd2afc1a24d88d2b7</td>\n",
       "      <td> ea65900e72d71f4626378e2ebd298267</td>\n",
       "      <td> 2013-02-22 00:00:00</td>\n",
       "      <td>   1708</td>\n",
       "      <td> 0</td>\n",
       "      <td> ZRH     </td>\n",
       "      <td>...</td>\n",
       "      <td> LHRZRH         </td>\n",
       "      <td> VI</td>\n",
       "      <td> T        </td>\n",
       "      <td> Y        </td>\n",
       "      <td> 2013-03-07 08:50:00</td>\n",
       "      <td> 2013-03-07 11:33:37</td>\n",
       "      <td>-1</td>\n",
       "      <td> 2013</td>\n",
       "      <td> 3</td>\n",
       "      <td> NULL     </td>\n",
       "    </tr>\n",
       "    <tr>\n",
       "      <th>1</th>\n",
       "      <td> 2013-03-26 00:00:00</td>\n",
       "      <td> 1A    </td>\n",
       "      <td> US      </td>\n",
       "      <td> e612b9eeeee6f17f42d9b0d3b79e75ca</td>\n",
       "      <td> 7437560d8f276d6d05eeb806d9e7edee</td>\n",
       "      <td> 737295a86982c941f1c2da9a46a14043</td>\n",
       "      <td> 2013-03-26 00:00:00</td>\n",
       "      <td> 135270</td>\n",
       "      <td> 0</td>\n",
       "      <td> SAL     </td>\n",
       "      <td>...</td>\n",
       "      <td> SALATLCLT      </td>\n",
       "      <td> NV</td>\n",
       "      <td> L        </td>\n",
       "      <td> Y        </td>\n",
       "      <td> 2013-04-12 13:04:00</td>\n",
       "      <td> 2013-04-12 22:05:40</td>\n",
       "      <td> 1</td>\n",
       "      <td> 2013</td>\n",
       "      <td> 3</td>\n",
       "      <td> NULL     </td>\n",
       "    </tr>\n",
       "    <tr>\n",
       "      <th>2</th>\n",
       "      <td> 2013-03-26 00:00:00</td>\n",
       "      <td> 1A    </td>\n",
       "      <td> US      </td>\n",
       "      <td> e612b9eeeee6f17f42d9b0d3b79e75ca</td>\n",
       "      <td> 7437560d8f276d6d05eeb806d9e7edee</td>\n",
       "      <td> 737295a86982c941f1c2da9a46a14043</td>\n",
       "      <td> 2013-03-26 00:00:00</td>\n",
       "      <td> 135270</td>\n",
       "      <td> 0</td>\n",
       "      <td> SAL     </td>\n",
       "      <td>...</td>\n",
       "      <td> CLTATLSAL      </td>\n",
       "      <td> NV</td>\n",
       "      <td> U        </td>\n",
       "      <td> Y        </td>\n",
       "      <td> 2013-07-15 07:00:00</td>\n",
       "      <td> 2013-07-15 11:34:51</td>\n",
       "      <td> 1</td>\n",
       "      <td> 2013</td>\n",
       "      <td> 3</td>\n",
       "      <td> NULL     </td>\n",
       "    </tr>\n",
       "    <tr>\n",
       "      <th>3</th>\n",
       "      <td> 2013-03-26 00:00:00</td>\n",
       "      <td> 1A    </td>\n",
       "      <td> AU      </td>\n",
       "      <td> 0f984b3bb6bd06661c95529bbd6193bc</td>\n",
       "      <td> 36472c6dbaf7afec9136ac40364e2794</td>\n",
       "      <td> 5ecf00fdcbcec761c43dc7285253d0c1</td>\n",
       "      <td> 2013-03-26 00:00:00</td>\n",
       "      <td>  30885</td>\n",
       "      <td> 0</td>\n",
       "      <td> AKL     </td>\n",
       "      <td>...</td>\n",
       "      <td> AKLHKGSVO      </td>\n",
       "      <td> XK</td>\n",
       "      <td> G        </td>\n",
       "      <td> Y        </td>\n",
       "      <td> 2013-04-24 23:59:00</td>\n",
       "      <td> 2013-04-25 16:06:31</td>\n",
       "      <td> 1</td>\n",
       "      <td> 2013</td>\n",
       "      <td> 3</td>\n",
       "      <td> SYDA82546</td>\n",
       "    </tr>\n",
       "    <tr>\n",
       "      <th>4</th>\n",
       "      <td> 2013-03-26 00:00:00</td>\n",
       "      <td> 1A    </td>\n",
       "      <td> AU      </td>\n",
       "      <td> 0f984b3bb6bd06661c95529bbd6193bc</td>\n",
       "      <td> 36472c6dbaf7afec9136ac40364e2794</td>\n",
       "      <td> 5ecf00fdcbcec761c43dc7285253d0c1</td>\n",
       "      <td> 2013-03-26 00:00:00</td>\n",
       "      <td>  30885</td>\n",
       "      <td> 0</td>\n",
       "      <td> AKL     </td>\n",
       "      <td>...</td>\n",
       "      <td> SVOHKGAKL      </td>\n",
       "      <td> XK</td>\n",
       "      <td> G        </td>\n",
       "      <td> Y        </td>\n",
       "      <td> 2013-05-14 20:15:00</td>\n",
       "      <td> 2013-05-16 10:44:50</td>\n",
       "      <td> 1</td>\n",
       "      <td> 2013</td>\n",
       "      <td> 3</td>\n",
       "      <td> SYDA82546</td>\n",
       "    </tr>\n",
       "  </tbody>\n",
       "</table>\n",
       "<p>5 rows × 38 columns</p>\n",
       "</div>"
      ],
      "text/plain": [
       "              act_date  source  pos_ctry                          pos_iata  \\\n",
       "0  2013-03-05 00:00:00  1A      DE        a68dd7ae953c8acfb187a1af2dcbe123   \n",
       "1  2013-03-26 00:00:00  1A      US        e612b9eeeee6f17f42d9b0d3b79e75ca   \n",
       "2  2013-03-26 00:00:00  1A      US        e612b9eeeee6f17f42d9b0d3b79e75ca   \n",
       "3  2013-03-26 00:00:00  1A      AU        0f984b3bb6bd06661c95529bbd6193bc   \n",
       "4  2013-03-26 00:00:00  1A      AU        0f984b3bb6bd06661c95529bbd6193bc   \n",
       "\n",
       "                            pos_oid                              rloc  \\\n",
       "0  1a11ae49fcbf545fd2afc1a24d88d2b7  ea65900e72d71f4626378e2ebd298267   \n",
       "1  7437560d8f276d6d05eeb806d9e7edee  737295a86982c941f1c2da9a46a14043   \n",
       "2  7437560d8f276d6d05eeb806d9e7edee  737295a86982c941f1c2da9a46a14043   \n",
       "3  36472c6dbaf7afec9136ac40364e2794  5ecf00fdcbcec761c43dc7285253d0c1   \n",
       "4  36472c6dbaf7afec9136ac40364e2794  5ecf00fdcbcec761c43dc7285253d0c1   \n",
       "\n",
       "              cre_date  duration  distance  dep_port    ...     \\\n",
       "0  2013-02-22 00:00:00      1708         0  ZRH         ...      \n",
       "1  2013-03-26 00:00:00    135270         0  SAL         ...      \n",
       "2  2013-03-26 00:00:00    135270         0  SAL         ...      \n",
       "3  2013-03-26 00:00:00     30885         0  AKL         ...      \n",
       "4  2013-03-26 00:00:00     30885         0  AKL         ...      \n",
       "\n",
       "             route carrier  bkg_class  cab_class             brd_time  \\\n",
       "0  LHRZRH               VI  T          Y          2013-03-07 08:50:00   \n",
       "1  SALATLCLT            NV  L          Y          2013-04-12 13:04:00   \n",
       "2  CLTATLSAL            NV  U          Y          2013-07-15 07:00:00   \n",
       "3  AKLHKGSVO            XK  G          Y          2013-04-24 23:59:00   \n",
       "4  SVOHKGAKL            XK  G          Y          2013-05-14 20:15:00   \n",
       "\n",
       "              off_time pax  year month        oid  \n",
       "0  2013-03-07 11:33:37  -1  2013     3  NULL       \n",
       "1  2013-04-12 22:05:40   1  2013     3  NULL       \n",
       "2  2013-07-15 11:34:51   1  2013     3  NULL       \n",
       "3  2013-04-25 16:06:31   1  2013     3  SYDA82546  \n",
       "4  2013-05-16 10:44:50   1  2013     3  SYDA82546  \n",
       "\n",
       "[5 rows x 38 columns]"
      ]
     },
     "execution_count": 5,
     "metadata": {},
     "output_type": "execute_result"
    }
   ],
   "source": [
    "ex = pd.read_csv('tables/bookings_1.csv', sep = ';', names = table_names)\n",
    "ex.head()"
   ]
  },
  {
   "cell_type": "code",
   "execution_count": 28,
   "metadata": {
    "collapsed": false
   },
   "outputs": [],
   "source": [
    "def get_top(df):\n",
    "    df.act_date2 = pd.Series([x.split('-')[0] for x in df.act_date.tolist()])\n",
    "    df = df[df.act_date2 == '2013']\n",
    "    top = df.groupby(['arr_port']).sum().reset_index()[['arr_port', 'pax']]\n",
    "    return top\n",
    "                                                              "
   ]
  },
  {
   "cell_type": "code",
   "execution_count": 8,
   "metadata": {
    "collapsed": false
   },
   "outputs": [],
   "source": [
    "from os import listdir\n",
    "files = listdir('tables')"
   ]
  },
  {
   "cell_type": "code",
   "execution_count": 42,
   "metadata": {
    "collapsed": false,
    "scrolled": true
   },
   "outputs": [
    {
     "name": "stdout",
     "output_type": "stream",
     "text": [
      "bookings_1.csv\n",
      "bookings_10.csv\n",
      "bookings_100.csv\n",
      "bookings_11.csv\n",
      "bookings_12.csv\n",
      "bookings_13.csv\n",
      "bookings_14.csv\n",
      "bookings_15.csv\n",
      "bookings_16.csv\n",
      "bookings_17.csv\n",
      "bookings_18.csv\n",
      "bookings_19.csv\n",
      "bookings_2.csv\n",
      "bookings_20.csv\n",
      "bookings_21.csv\n",
      "bookings_22.csv\n",
      "bookings_23.csv\n",
      "bookings_24.csv\n",
      "bookings_25.csv\n",
      "bookings_26.csv\n",
      "bookings_27.csv\n",
      "bookings_28.csv\n",
      "bookings_29.csv\n",
      "bookings_3.csv\n",
      "bookings_30.csv\n",
      "bookings_31.csv\n",
      "bookings_32.csv\n",
      "bookings_33.csv\n",
      "bookings_34.csv\n",
      "bookings_35.csv\n",
      "bookings_36.csv\n",
      "bookings_37.csv\n",
      "bookings_38.csv\n",
      "bookings_39.csv\n",
      "bookings_4.csv\n",
      "bookings_40.csv\n",
      "bookings_41.csv\n",
      "bookings_42.csv\n",
      "bookings_43.csv\n",
      "bookings_44.csv\n",
      "bookings_45.csv\n",
      "bookings_46.csv\n",
      "bookings_47.csv\n",
      "bookings_48.csv\n",
      "bookings_49.csv\n",
      "bookings_5.csv\n",
      "bookings_50.csv\n",
      "bookings_51.csv\n",
      "bookings_52.csv\n",
      "bookings_53.csv\n",
      "bookings_54.csv\n",
      "bookings_55.csv\n",
      "bookings_56.csv\n",
      "bookings_57.csv\n",
      "bookings_58.csv\n",
      "bookings_59.csv\n",
      "bookings_6.csv\n",
      "bookings_60.csv\n",
      "bookings_61.csv\n",
      "bookings_62.csv\n",
      "bookings_63.csv\n",
      "bookings_64.csv\n",
      "bookings_65.csv\n",
      "bookings_66.csv\n",
      "bookings_67.csv\n",
      "bookings_68.csv\n",
      "bookings_69.csv\n",
      "bookings_7.csv\n",
      "bookings_70.csv\n",
      "bookings_71.csv\n",
      "bookings_72.csv\n",
      "bookings_73.csv\n",
      "bookings_74.csv\n",
      "bookings_75.csv\n",
      "bookings_76.csv\n",
      "bookings_77.csv\n",
      "bookings_78.csv\n",
      "bookings_79.csv\n",
      "bookings_8.csv\n",
      "bookings_80.csv\n",
      "bookings_81.csv\n",
      "bookings_82.csv\n",
      "bookings_83.csv\n",
      "bookings_84.csv\n",
      "bookings_85.csv\n",
      "bookings_86.csv\n",
      "bookings_87.csv\n",
      "bookings_88.csv\n",
      "bookings_89.csv\n",
      "bookings_9.csv\n",
      "bookings_90.csv\n",
      "bookings_91.csv\n",
      "bookings_92.csv\n",
      "bookings_93.csv\n",
      "bookings_94.csv\n",
      "bookings_95.csv\n",
      "bookings_96.csv\n",
      "bookings_97.csv\n",
      "bookings_98.csv\n",
      "bookings_99.csv\n"
     ]
    }
   ],
   "source": [
    "res = pd.DataFrame()\n",
    "for f in files:\n",
    "    df = pd.read_csv('tables/'+f, sep = ';', names = table_names)\n",
    "    res = res.append(get_top(df))\n",
    "    print f\n",
    "    del(df)"
   ]
  },
  {
   "cell_type": "code",
   "execution_count": 46,
   "metadata": {
    "collapsed": false
   },
   "outputs": [
    {
     "name": "stdout",
     "output_type": "stream",
     "text": [
      "      arr_port    pax\n",
      "1088  LHR       88809\n",
      "1190  MCO       70930\n",
      "1050  LAX       70530\n",
      "1047  LAS       69626\n",
      "886   JFK       66270\n",
      "315   CDG       64490\n",
      "216   BKK       59460\n",
      "1228  MIA       58150\n",
      "1719  SFO       58000\n",
      "517   DXB       55590\n"
     ]
    }
   ],
   "source": [
    "print res.groupby('arr_port').sum().reset_index().sort('pax', ascending = False)[:10]"
   ]
  },
  {
   "cell_type": "markdown",
   "metadata": {
    "collapsed": true
   },
   "source": [
    "# 3. top searches"
   ]
  },
  {
   "cell_type": "code",
   "execution_count": 53,
   "metadata": {
    "collapsed": true
   },
   "outputs": [],
   "source": [
    "!mkdir searches"
   ]
  },
  {
   "cell_type": "code",
   "execution_count": 54,
   "metadata": {
    "collapsed": false
   },
   "outputs": [
    {
     "name": "stdout",
     "output_type": "stream",
     "text": [
      "204\n"
     ]
    }
   ],
   "source": [
    "LINES_TO_FLUSH = 100000\n",
    "with open(\"/Users/nephidei/Downloads/searches.csv\") as source_file:\n",
    "    out_buf = []\n",
    "    out_index = 1\n",
    "    for i, line in enumerate(source_file):\n",
    "        if i == 0:\n",
    "            continue\n",
    "        #print 'file '+str(i)+' started'\n",
    "        out_buf.append(line.replace('^', ';'))\n",
    "        if len(out_buf) == LINES_TO_FLUSH:\n",
    "            with open('searches/searches_'+str(out_index)+'.csv', \"w\") as part_file:\n",
    "                part_file.writelines(out_buf)\n",
    "            out_index += 1\n",
    "            out_buf = []  \n",
    "    print out_index "
   ]
  },
  {
   "cell_type": "code",
   "execution_count": 10,
   "metadata": {
    "collapsed": false
   },
   "outputs": [
    {
     "name": "stdout",
     "output_type": "stream",
     "text": [
      "['Date', 'Time', 'TxnCode', 'OfficeID', 'Country', 'Origin', 'Destination', 'RoundTrip', 'NbSegments', 'Seg1Departure', 'Seg1Arrival', 'Seg1Date', 'Seg1Carrier', 'Seg1BookingCode', 'Seg2Departure', 'Seg2Arrival', 'Seg2Date', 'Seg2Carrier', 'Seg2BookingCode', 'Seg3Departure', 'Seg3Arrival', 'Seg3Date', 'Seg3Carrier', 'Seg3BookingCode', 'Seg4Departure', 'Seg4Arrival', 'Seg4Date', 'Seg4Carrier', 'Seg4BookingCode', 'Seg5Departure', 'Seg5Arrival', 'Seg5Date', 'Seg5Carrier', 'Seg5BookingCode', 'Seg6Departure', 'Seg6Arrival', 'Seg6Date', 'Seg6Carrier', 'Seg6BookingCode', 'From', 'IsPublishedForNeg', 'IsFromInternet', 'IsFromVista', 'TerminalID', 'InternetOffice']\n"
     ]
    }
   ],
   "source": [
    "table_names2 = list(slicefile(\"/Users/nephidei/Downloads/searches.csv\", 0, 1))[0].rstrip().replace('^', ';').split(';')\n",
    "for i,name in enumerate(table_names2):\n",
    "    table_names2[i] = name.replace(' ', '')\n",
    "\n",
    "print table_names2"
   ]
  },
  {
   "cell_type": "code",
   "execution_count": 131,
   "metadata": {
    "collapsed": false
   },
   "outputs": [
    {
     "data": {
      "text/html": [
       "<div style=\"max-height:1000px;max-width:1500px;overflow:auto;\">\n",
       "<table border=\"1\" class=\"dataframe\">\n",
       "  <thead>\n",
       "    <tr style=\"text-align: right;\">\n",
       "      <th></th>\n",
       "      <th>Date</th>\n",
       "      <th>Time</th>\n",
       "      <th>TxnCode</th>\n",
       "      <th>OfficeID</th>\n",
       "      <th>Country</th>\n",
       "      <th>Origin</th>\n",
       "      <th>Destination</th>\n",
       "      <th>RoundTrip</th>\n",
       "      <th>NbSegments</th>\n",
       "      <th>Seg1Departure</th>\n",
       "      <th>...</th>\n",
       "      <th>Seg6Arrival</th>\n",
       "      <th>Seg6Date</th>\n",
       "      <th>Seg6Carrier</th>\n",
       "      <th>Seg6BookingCode</th>\n",
       "      <th>From</th>\n",
       "      <th>IsPublishedForNeg</th>\n",
       "      <th>IsFromInternet</th>\n",
       "      <th>IsFromVista</th>\n",
       "      <th>TerminalID</th>\n",
       "      <th>InternetOffice</th>\n",
       "    </tr>\n",
       "  </thead>\n",
       "  <tbody>\n",
       "    <tr>\n",
       "      <th>0</th>\n",
       "      <td> 2013-01-01</td>\n",
       "      <td> 20:25:57</td>\n",
       "      <td> MPT</td>\n",
       "      <td> 624d8c3ac0b3a7ca03e3c167e0f48327</td>\n",
       "      <td> DE</td>\n",
       "      <td> TXL</td>\n",
       "      <td> AUH</td>\n",
       "      <td> 1</td>\n",
       "      <td> 2</td>\n",
       "      <td> TXL</td>\n",
       "      <td>...</td>\n",
       "      <td> NaN</td>\n",
       "      <td> NaN</td>\n",
       "      <td> NaN</td>\n",
       "      <td> NaN</td>\n",
       "      <td> 1ASIWS</td>\n",
       "      <td> 0</td>\n",
       "      <td> 0</td>\n",
       "      <td> 0</td>\n",
       "      <td> d41d8cd98f00b204e9800998ecf8427e</td>\n",
       "      <td> FRA</td>\n",
       "    </tr>\n",
       "    <tr>\n",
       "      <th>1</th>\n",
       "      <td> 2013-01-01</td>\n",
       "      <td> 10:15:33</td>\n",
       "      <td> MPT</td>\n",
       "      <td> b0af35b31588dc4ab06d5cf2986e8e02</td>\n",
       "      <td> MD</td>\n",
       "      <td> ATH</td>\n",
       "      <td> MIL</td>\n",
       "      <td> 0</td>\n",
       "      <td> 1</td>\n",
       "      <td> ATH</td>\n",
       "      <td>...</td>\n",
       "      <td> NaN</td>\n",
       "      <td> NaN</td>\n",
       "      <td> NaN</td>\n",
       "      <td> NaN</td>\n",
       "      <td> 1ASIWS</td>\n",
       "      <td> 0</td>\n",
       "      <td> 0</td>\n",
       "      <td> 0</td>\n",
       "      <td> d41d8cd98f00b204e9800998ecf8427e</td>\n",
       "      <td> KIV</td>\n",
       "    </tr>\n",
       "    <tr>\n",
       "      <th>2</th>\n",
       "      <td> 2013-01-01</td>\n",
       "      <td> 18:04:49</td>\n",
       "      <td> MPT</td>\n",
       "      <td> 3561a60621de06ab1badc8ca55699ef3</td>\n",
       "      <td> US</td>\n",
       "      <td> ICT</td>\n",
       "      <td> SFO</td>\n",
       "      <td> 1</td>\n",
       "      <td> 2</td>\n",
       "      <td> ICT</td>\n",
       "      <td>...</td>\n",
       "      <td> NaN</td>\n",
       "      <td> NaN</td>\n",
       "      <td> NaN</td>\n",
       "      <td> NaN</td>\n",
       "      <td> 1ASIWS</td>\n",
       "      <td> 0</td>\n",
       "      <td> 0</td>\n",
       "      <td> 0</td>\n",
       "      <td> d41d8cd98f00b204e9800998ecf8427e</td>\n",
       "      <td> NYC</td>\n",
       "    </tr>\n",
       "    <tr>\n",
       "      <th>3</th>\n",
       "      <td> 2013-01-01</td>\n",
       "      <td> 17:42:40</td>\n",
       "      <td> FXP</td>\n",
       "      <td> 1864e5e8013d9414150e91d26b6a558b</td>\n",
       "      <td> SE</td>\n",
       "      <td> RNB</td>\n",
       "      <td> ARN</td>\n",
       "      <td> 0</td>\n",
       "      <td> 1</td>\n",
       "      <td> RNB</td>\n",
       "      <td>...</td>\n",
       "      <td> NaN</td>\n",
       "      <td> NaN</td>\n",
       "      <td> NaN</td>\n",
       "      <td> NaN</td>\n",
       "      <td>   1ASI</td>\n",
       "      <td> 0</td>\n",
       "      <td> 0</td>\n",
       "      <td> 0</td>\n",
       "      <td> d41d8cd98f00b204e9800998ecf8427e</td>\n",
       "      <td> STO</td>\n",
       "    </tr>\n",
       "    <tr>\n",
       "      <th>4</th>\n",
       "      <td> 2013-01-01</td>\n",
       "      <td> 17:48:29</td>\n",
       "      <td> MPT</td>\n",
       "      <td> 1ec336348f44207d2e0027dc3a68c118</td>\n",
       "      <td> NO</td>\n",
       "      <td> OSL</td>\n",
       "      <td> MAD</td>\n",
       "      <td> 1</td>\n",
       "      <td> 2</td>\n",
       "      <td> OSL</td>\n",
       "      <td>...</td>\n",
       "      <td> NaN</td>\n",
       "      <td> NaN</td>\n",
       "      <td> NaN</td>\n",
       "      <td> NaN</td>\n",
       "      <td> 1ASIWS</td>\n",
       "      <td> 0</td>\n",
       "      <td> 0</td>\n",
       "      <td> 0</td>\n",
       "      <td> d41d8cd98f00b204e9800998ecf8427e</td>\n",
       "      <td> OSL</td>\n",
       "    </tr>\n",
       "  </tbody>\n",
       "</table>\n",
       "<p>5 rows × 45 columns</p>\n",
       "</div>"
      ],
      "text/plain": [
       "         Date      Time TxnCode                          OfficeID Country  \\\n",
       "0  2013-01-01  20:25:57     MPT  624d8c3ac0b3a7ca03e3c167e0f48327      DE   \n",
       "1  2013-01-01  10:15:33     MPT  b0af35b31588dc4ab06d5cf2986e8e02      MD   \n",
       "2  2013-01-01  18:04:49     MPT  3561a60621de06ab1badc8ca55699ef3      US   \n",
       "3  2013-01-01  17:42:40     FXP  1864e5e8013d9414150e91d26b6a558b      SE   \n",
       "4  2013-01-01  17:48:29     MPT  1ec336348f44207d2e0027dc3a68c118      NO   \n",
       "\n",
       "  Origin Destination  RoundTrip  NbSegments Seg1Departure      ...       \\\n",
       "0    TXL         AUH          1           2           TXL      ...        \n",
       "1    ATH         MIL          0           1           ATH      ...        \n",
       "2    ICT         SFO          1           2           ICT      ...        \n",
       "3    RNB         ARN          0           1           RNB      ...        \n",
       "4    OSL         MAD          1           2           OSL      ...        \n",
       "\n",
       "  Seg6Arrival Seg6Date Seg6Carrier Seg6BookingCode    From IsPublishedForNeg  \\\n",
       "0         NaN      NaN         NaN             NaN  1ASIWS                 0   \n",
       "1         NaN      NaN         NaN             NaN  1ASIWS                 0   \n",
       "2         NaN      NaN         NaN             NaN  1ASIWS                 0   \n",
       "3         NaN      NaN         NaN             NaN    1ASI                 0   \n",
       "4         NaN      NaN         NaN             NaN  1ASIWS                 0   \n",
       "\n",
       "  IsFromInternet IsFromVista                        TerminalID InternetOffice  \n",
       "0              0           0  d41d8cd98f00b204e9800998ecf8427e            FRA  \n",
       "1              0           0  d41d8cd98f00b204e9800998ecf8427e            KIV  \n",
       "2              0           0  d41d8cd98f00b204e9800998ecf8427e            NYC  \n",
       "3              0           0  d41d8cd98f00b204e9800998ecf8427e            STO  \n",
       "4              0           0  d41d8cd98f00b204e9800998ecf8427e            OSL  \n",
       "\n",
       "[5 rows x 45 columns]"
      ]
     },
     "execution_count": 131,
     "metadata": {},
     "output_type": "execute_result"
    }
   ],
   "source": [
    "ex = pd.read_csv('searches/searches_1.csv', sep = ';', names = table_names2)\n",
    "ex.head()"
   ]
  },
  {
   "cell_type": "code",
   "execution_count": 66,
   "metadata": {
    "collapsed": false
   },
   "outputs": [],
   "source": [
    "def get_mon(df):\n",
    "    df['date2'] = pd.Series([x.split('-')[0]+'-'+x.split('-')[1] for x in df.Date.tolist()])\n",
    "    df = df[df.Destination.isin(['AGP', 'MAD', 'BCN'])]\n",
    "    df['searches'] = 1\n",
    "    top = df.groupby(['Destination','date2']).sum().reset_index()[['Destination', 'date2','searches' ]]\n",
    "    return top"
   ]
  },
  {
   "cell_type": "code",
   "execution_count": 69,
   "metadata": {
    "collapsed": false
   },
   "outputs": [
    {
     "name": "stderr",
     "output_type": "stream",
     "text": [
      "/Library/Python/2.7/site-packages/pandas-0.14.1-py2.7-macosx-10.9-intel.egg/pandas/io/parsers.py:1139: DtypeWarning: Columns (40,41,42) have mixed types. Specify dtype option on import or set low_memory=False.\n",
      "  data = self._reader.read(nrows)\n",
      "/Library/Python/2.7/site-packages/pandas-0.14.1-py2.7-macosx-10.9-intel.egg/pandas/io/parsers.py:1139: DtypeWarning: Columns (40,41,42,44) have mixed types. Specify dtype option on import or set low_memory=False.\n",
      "  data = self._reader.read(nrows)\n"
     ]
    }
   ],
   "source": [
    "search_files = listdir('searches')\n",
    "res2 = pd.DataFrame()\n",
    "for f in search_files:\n",
    "    df = pd.read_csv('searches/'+f, sep = ';', names = table_names2)\n",
    "    res2 = res2.append(get_mon(df))\n",
    "    #print f\n",
    "    del(df)"
   ]
  },
  {
   "cell_type": "code",
   "execution_count": 79,
   "metadata": {
    "collapsed": false
   },
   "outputs": [
    {
     "name": "stdout",
     "output_type": "stream",
     "text": [
      "Populating the interactive namespace from numpy and matplotlib\n"
     ]
    }
   ],
   "source": [
    "%pylab inline\n"
   ]
  },
  {
   "cell_type": "code",
   "execution_count": 71,
   "metadata": {
    "collapsed": false
   },
   "outputs": [
    {
     "data": {
      "text/html": [
       "<div style=\"max-height:1000px;max-width:1500px;overflow:auto;\">\n",
       "<table border=\"1\" class=\"dataframe\">\n",
       "  <thead>\n",
       "    <tr style=\"text-align: right;\">\n",
       "      <th></th>\n",
       "      <th>Destination</th>\n",
       "      <th>date2</th>\n",
       "      <th>searches</th>\n",
       "    </tr>\n",
       "  </thead>\n",
       "  <tbody>\n",
       "    <tr>\n",
       "      <th>0</th>\n",
       "      <td> AGP</td>\n",
       "      <td> 2013-01</td>\n",
       "      <td> 169</td>\n",
       "    </tr>\n",
       "    <tr>\n",
       "      <th>1</th>\n",
       "      <td> AGP</td>\n",
       "      <td> 2013-02</td>\n",
       "      <td> 147</td>\n",
       "    </tr>\n",
       "    <tr>\n",
       "      <th>2</th>\n",
       "      <td> AGP</td>\n",
       "      <td> 2013-03</td>\n",
       "      <td> 187</td>\n",
       "    </tr>\n",
       "    <tr>\n",
       "      <th>3</th>\n",
       "      <td> AGP</td>\n",
       "      <td> 2013-04</td>\n",
       "      <td>  31</td>\n",
       "    </tr>\n",
       "    <tr>\n",
       "      <th>4</th>\n",
       "      <td> BCN</td>\n",
       "      <td> 2013-01</td>\n",
       "      <td> 517</td>\n",
       "    </tr>\n",
       "  </tbody>\n",
       "</table>\n",
       "</div>"
      ],
      "text/plain": [
       "  Destination    date2  searches\n",
       "0         AGP  2013-01       169\n",
       "1         AGP  2013-02       147\n",
       "2         AGP  2013-03       187\n",
       "3         AGP  2013-04        31\n",
       "4         BCN  2013-01       517"
      ]
     },
     "execution_count": 71,
     "metadata": {},
     "output_type": "execute_result"
    }
   ],
   "source": [
    "res2.head()"
   ]
  },
  {
   "cell_type": "code",
   "execution_count": 80,
   "metadata": {
    "collapsed": false
   },
   "outputs": [],
   "source": [
    "r = res2.groupby(['Destination', 'date2']).sum().reset_index()\n",
    "pl = r.pivot(index = 'date2', columns = 'Destination', values = 'searches')"
   ]
  },
  {
   "cell_type": "code",
   "execution_count": 86,
   "metadata": {
    "collapsed": false
   },
   "outputs": [
    {
     "data": {
      "text/plain": [
       "<matplotlib.axes.AxesSubplot at 0x1189588d0>"
      ]
     },
     "execution_count": 86,
     "metadata": {},
     "output_type": "execute_result"
    },
    {
     "data": {
      "image/png": "[encoded data removed]",
      "text/plain": [
       "<matplotlib.figure.Figure at 0x1188fa510>"
      ]
     },
     "metadata": {},
     "output_type": "display_data"
    }
   ],
   "source": [
    "import matplotlib.pyplot as plt\n",
    "from matplotlib import cm\n",
    "pd.options.display.mpl_style = 'default'\n",
    "cmap = cm.get_cmap('Spectral') \n",
    "\n",
    "\n",
    "pl.plot(title = 'Monthly searhces')"
   ]
  },
  {
   "cell_type": "markdown",
   "metadata": {},
   "source": [
    "# 4 match searches and bookings"
   ]
  },
  {
   "cell_type": "code",
   "execution_count": 6,
   "metadata": {
    "collapsed": true
   },
   "outputs": [],
   "source": [
    "def info_s(df):\n",
    "    tmp = pd.DataFrame()\n",
    "    tmp['date_'] = df['Date']\n",
    "    tmp['dst_'] = df['Destination']\n",
    "    tmp['orig_'] = df['Origin']\n",
    "    tmp['oid_'] =df['OfficeID']\n",
    "    return tmp\n",
    "\n",
    "def info_b(df):\n",
    "    tmp = pd.DataFrame()\n",
    "    tmp['date_'] = df['act_date']\n",
    "    tmp['dst_'] = df['arr_port']\n",
    "    tmp['orig_'] = df['dep_port']\n",
    "    tmp['oid_'] =df['pos_oid']\n",
    "    return tmp\n"
   ]
  },
  {
   "cell_type": "code",
   "execution_count": null,
   "metadata": {
    "collapsed": false
   },
   "outputs": [],
   "source": []
  },
  {
   "cell_type": "code",
   "execution_count": 11,
   "metadata": {
    "collapsed": false
   },
   "outputs": [
    {
     "name": "stderr",
     "output_type": "stream",
     "text": [
      "/Library/Python/2.7/site-packages/pandas-0.14.1-py2.7-macosx-10.9-intel.egg/pandas/io/parsers.py:1139: DtypeWarning: Columns (44) have mixed types. Specify dtype option on import or set low_memory=False.\n",
      "  data = self._reader.read(nrows)\n",
      "/Library/Python/2.7/site-packages/pandas-0.14.1-py2.7-macosx-10.9-intel.egg/pandas/io/parsers.py:1139: DtypeWarning: Columns (40,41,42) have mixed types. Specify dtype option on import or set low_memory=False.\n",
      "  data = self._reader.read(nrows)\n",
      "/Library/Python/2.7/site-packages/pandas-0.14.1-py2.7-macosx-10.9-intel.egg/pandas/io/parsers.py:1139: DtypeWarning: Columns (40,41,42,44) have mixed types. Specify dtype option on import or set low_memory=False.\n",
      "  data = self._reader.read(nrows)\n"
     ]
    }
   ],
   "source": [
    "searches = pd.DataFrame()\n",
    "bookings = pd.DataFrame()\n",
    "\n",
    "search_files = listdir('searches')\n",
    "for f in search_files:\n",
    "    df = pd.read_csv('searches/'+f, sep = ';', names = table_names2)\n",
    "    searches = searches.append(info_s(df))\n",
    "    #print f\n",
    "    del(df)\n",
    "    \n"
   ]
  },
  {
   "cell_type": "code",
   "execution_count": 12,
   "metadata": {
    "collapsed": false
   },
   "outputs": [
    {
     "data": {
      "text/html": [
       "<div style=\"max-height:1000px;max-width:1500px;overflow:auto;\">\n",
       "<table border=\"1\" class=\"dataframe\">\n",
       "  <thead>\n",
       "    <tr style=\"text-align: right;\">\n",
       "      <th></th>\n",
       "      <th>date_</th>\n",
       "      <th>dst_</th>\n",
       "      <th>orig_</th>\n",
       "      <th>oid_</th>\n",
       "    </tr>\n",
       "  </thead>\n",
       "  <tbody>\n",
       "    <tr>\n",
       "      <th>0</th>\n",
       "      <td> 2013-01-01</td>\n",
       "      <td> AUH</td>\n",
       "      <td> TXL</td>\n",
       "      <td> 624d8c3ac0b3a7ca03e3c167e0f48327</td>\n",
       "    </tr>\n",
       "    <tr>\n",
       "      <th>1</th>\n",
       "      <td> 2013-01-01</td>\n",
       "      <td> MIL</td>\n",
       "      <td> ATH</td>\n",
       "      <td> b0af35b31588dc4ab06d5cf2986e8e02</td>\n",
       "    </tr>\n",
       "    <tr>\n",
       "      <th>2</th>\n",
       "      <td> 2013-01-01</td>\n",
       "      <td> SFO</td>\n",
       "      <td> ICT</td>\n",
       "      <td> 3561a60621de06ab1badc8ca55699ef3</td>\n",
       "    </tr>\n",
       "    <tr>\n",
       "      <th>3</th>\n",
       "      <td> 2013-01-01</td>\n",
       "      <td> ARN</td>\n",
       "      <td> RNB</td>\n",
       "      <td> 1864e5e8013d9414150e91d26b6a558b</td>\n",
       "    </tr>\n",
       "    <tr>\n",
       "      <th>4</th>\n",
       "      <td> 2013-01-01</td>\n",
       "      <td> MAD</td>\n",
       "      <td> OSL</td>\n",
       "      <td> 1ec336348f44207d2e0027dc3a68c118</td>\n",
       "    </tr>\n",
       "  </tbody>\n",
       "</table>\n",
       "</div>"
      ],
      "text/plain": [
       "        date_ dst_ orig_                              oid_\n",
       "0  2013-01-01  AUH   TXL  624d8c3ac0b3a7ca03e3c167e0f48327\n",
       "1  2013-01-01  MIL   ATH  b0af35b31588dc4ab06d5cf2986e8e02\n",
       "2  2013-01-01  SFO   ICT  3561a60621de06ab1badc8ca55699ef3\n",
       "3  2013-01-01  ARN   RNB  1864e5e8013d9414150e91d26b6a558b\n",
       "4  2013-01-01  MAD   OSL  1ec336348f44207d2e0027dc3a68c118"
      ]
     },
     "execution_count": 12,
     "metadata": {},
     "output_type": "execute_result"
    }
   ],
   "source": [
    "searches.head()"
   ]
  },
  {
   "cell_type": "code",
   "execution_count": 13,
   "metadata": {
    "collapsed": false
   },
   "outputs": [
    {
     "name": "stdout",
     "output_type": "stream",
     "text": [
      "['.ipynb_checkpoints', 'bookings_1.csv', 'bookings_10.csv', 'bookings_100.csv', 'bookings_11.csv', 'bookings_12.csv', 'bookings_13.csv', 'bookings_14.csv', 'bookings_15.csv', 'bookings_16.csv', 'bookings_17.csv', 'bookings_18.csv', 'bookings_19.csv', 'bookings_2.csv', 'bookings_20.csv', 'bookings_21.csv', 'bookings_22.csv', 'bookings_23.csv', 'bookings_24.csv', 'bookings_25.csv', 'bookings_26.csv', 'bookings_27.csv', 'bookings_28.csv', 'bookings_29.csv', 'bookings_3.csv', 'bookings_30.csv', 'bookings_31.csv', 'bookings_32.csv', 'bookings_33.csv', 'bookings_34.csv', 'bookings_35.csv', 'bookings_36.csv', 'bookings_37.csv', 'bookings_38.csv', 'bookings_39.csv', 'bookings_4.csv', 'bookings_40.csv', 'bookings_41.csv', 'bookings_42.csv', 'bookings_43.csv', 'bookings_44.csv', 'bookings_45.csv', 'bookings_46.csv', 'bookings_47.csv', 'bookings_48.csv', 'bookings_49.csv', 'bookings_5.csv', 'bookings_50.csv', 'bookings_51.csv', 'bookings_52.csv', 'bookings_53.csv', 'bookings_54.csv', 'bookings_55.csv', 'bookings_56.csv', 'bookings_57.csv', 'bookings_58.csv', 'bookings_59.csv', 'bookings_6.csv', 'bookings_60.csv', 'bookings_61.csv', 'bookings_62.csv', 'bookings_63.csv', 'bookings_64.csv', 'bookings_65.csv', 'bookings_66.csv', 'bookings_67.csv', 'bookings_68.csv', 'bookings_69.csv', 'bookings_7.csv', 'bookings_70.csv', 'bookings_71.csv', 'bookings_72.csv', 'bookings_73.csv', 'bookings_74.csv', 'bookings_75.csv', 'bookings_76.csv', 'bookings_77.csv', 'bookings_78.csv', 'bookings_79.csv', 'bookings_8.csv', 'bookings_80.csv', 'bookings_81.csv', 'bookings_82.csv', 'bookings_83.csv', 'bookings_84.csv', 'bookings_85.csv', 'bookings_86.csv', 'bookings_87.csv', 'bookings_88.csv', 'bookings_89.csv', 'bookings_9.csv', 'bookings_90.csv', 'bookings_91.csv', 'bookings_92.csv', 'bookings_93.csv', 'bookings_94.csv', 'bookings_95.csv', 'bookings_96.csv', 'bookings_97.csv', 'bookings_98.csv', 'bookings_99.csv']\n"
     ]
    }
   ],
   "source": [
    "book_files = listdir('tables')\n",
    "print book_files\n",
    "\n"
   ]
  },
  {
   "cell_type": "code",
   "execution_count": 14,
   "metadata": {
    "collapsed": false
   },
   "outputs": [
    {
     "name": "stderr",
     "output_type": "stream",
     "text": [
      "/Library/Python/2.7/site-packages/pandas-0.14.1-py2.7-macosx-10.9-intel.egg/pandas/io/parsers.py:1139: DtypeWarning: Columns (7,8,27) have mixed types. Specify dtype option on import or set low_memory=False.\n",
      "  data = self._reader.read(nrows)\n"
     ]
    }
   ],
   "source": [
    "bookings = pd.DataFrame()\n",
    "\n",
    "for f in book_files[1:]:\n",
    "    df = pd.read_csv('tables/'+f, sep = ';', names = table_names)\n",
    "    bookings = bookings.append(info_b(df))\n",
    "    #print f\n",
    "    del(df)"
   ]
  },
  {
   "cell_type": "raw",
   "metadata": {},
   "source": [
    "Note: added date column to match searches and bookings too. "
   ]
  },
  {
   "cell_type": "code",
   "execution_count": 15,
   "metadata": {
    "collapsed": false
   },
   "outputs": [],
   "source": [
    "bookings['date_'] =  pd.Series([x.split(' ')[0] for x in bookings['date_'].tolist()])"
   ]
  },
  {
   "cell_type": "code",
   "execution_count": 16,
   "metadata": {
    "collapsed": true
   },
   "outputs": [],
   "source": [
    "bookings['size'] = 1\n",
    "searches['size'] = 1"
   ]
  },
  {
   "cell_type": "code",
   "execution_count": 18,
   "metadata": {
    "collapsed": false
   },
   "outputs": [],
   "source": [
    "b_grouped = bookings.groupby(['date_', 'dst_', 'orig_', 'oid_']).sum().reset_index()\n",
    "s_grouped = searches.groupby(['date_', 'dst_', 'orig_','oid_']).sum().reset_index()"
   ]
  },
  {
   "cell_type": "code",
   "execution_count": 19,
   "metadata": {
    "collapsed": false
   },
   "outputs": [],
   "source": [
    "merged1 = pd.merge(b_grouped, s_grouped, on = ['date_', 'oid_'])"
   ]
  },
  {
   "cell_type": "code",
   "execution_count": 21,
   "metadata": {
    "collapsed": false
   },
   "outputs": [
    {
     "data": {
      "text/html": [
       "<div style=\"max-height:1000px;max-width:1500px;overflow:auto;\">\n",
       "<table border=\"1\" class=\"dataframe\">\n",
       "  <thead>\n",
       "    <tr style=\"text-align: right;\">\n",
       "      <th></th>\n",
       "      <th>date_</th>\n",
       "      <th>dst__x</th>\n",
       "      <th>orig__x</th>\n",
       "      <th>oid_</th>\n",
       "      <th>size_x</th>\n",
       "      <th>dst__y</th>\n",
       "      <th>orig__y</th>\n",
       "      <th>size_y</th>\n",
       "    </tr>\n",
       "  </thead>\n",
       "  <tbody>\n",
       "    <tr>\n",
       "      <th>0</th>\n",
       "      <td> 2013-01-01</td>\n",
       "      <td> ACC     </td>\n",
       "      <td> SMF     </td>\n",
       "      <td> 3561a60621de06ab1badc8ca55699ef3</td>\n",
       "      <td> 10</td>\n",
       "      <td> ATL</td>\n",
       "      <td> GUA</td>\n",
       "      <td> 57</td>\n",
       "    </tr>\n",
       "    <tr>\n",
       "      <th>1</th>\n",
       "      <td> 2013-01-01</td>\n",
       "      <td> ACC     </td>\n",
       "      <td> SMF     </td>\n",
       "      <td> 3561a60621de06ab1badc8ca55699ef3</td>\n",
       "      <td> 10</td>\n",
       "      <td> BLR</td>\n",
       "      <td> IAH</td>\n",
       "      <td> 90</td>\n",
       "    </tr>\n",
       "    <tr>\n",
       "      <th>2</th>\n",
       "      <td> 2013-01-01</td>\n",
       "      <td> ACC     </td>\n",
       "      <td> SMF     </td>\n",
       "      <td> 3561a60621de06ab1badc8ca55699ef3</td>\n",
       "      <td> 10</td>\n",
       "      <td> CDG</td>\n",
       "      <td> MIA</td>\n",
       "      <td> 57</td>\n",
       "    </tr>\n",
       "    <tr>\n",
       "      <th>3</th>\n",
       "      <td> 2013-01-01</td>\n",
       "      <td> ACC     </td>\n",
       "      <td> SMF     </td>\n",
       "      <td> 3561a60621de06ab1badc8ca55699ef3</td>\n",
       "      <td> 10</td>\n",
       "      <td> DAC</td>\n",
       "      <td> ORL</td>\n",
       "      <td> 57</td>\n",
       "    </tr>\n",
       "    <tr>\n",
       "      <th>4</th>\n",
       "      <td> 2013-01-01</td>\n",
       "      <td> ACC     </td>\n",
       "      <td> SMF     </td>\n",
       "      <td> 3561a60621de06ab1badc8ca55699ef3</td>\n",
       "      <td> 10</td>\n",
       "      <td> HAN</td>\n",
       "      <td> SYD</td>\n",
       "      <td> 57</td>\n",
       "    </tr>\n",
       "  </tbody>\n",
       "</table>\n",
       "</div>"
      ],
      "text/plain": [
       "        date_    dst__x   orig__x                              oid_  size_x  \\\n",
       "0  2013-01-01  ACC       SMF       3561a60621de06ab1badc8ca55699ef3      10   \n",
       "1  2013-01-01  ACC       SMF       3561a60621de06ab1badc8ca55699ef3      10   \n",
       "2  2013-01-01  ACC       SMF       3561a60621de06ab1badc8ca55699ef3      10   \n",
       "3  2013-01-01  ACC       SMF       3561a60621de06ab1badc8ca55699ef3      10   \n",
       "4  2013-01-01  ACC       SMF       3561a60621de06ab1badc8ca55699ef3      10   \n",
       "\n",
       "  dst__y orig__y  size_y  \n",
       "0    ATL     GUA      57  \n",
       "1    BLR     IAH      90  \n",
       "2    CDG     MIA      57  \n",
       "3    DAC     ORL      57  \n",
       "4    HAN     SYD      57  "
      ]
     },
     "execution_count": 21,
     "metadata": {},
     "output_type": "execute_result"
    }
   ],
   "source": [
    "merged1.head()"
   ]
  },
  {
   "cell_type": "code",
   "execution_count": 22,
   "metadata": {
    "collapsed": true
   },
   "outputs": [],
   "source": [
    "merged = pd.merge(b_grouped, s_grouped, on = ['date_', 'dst_', 'orig_', 'oid_'])"
   ]
  },
  {
   "cell_type": "code",
   "execution_count": 23,
   "metadata": {
    "collapsed": false
   },
   "outputs": [
    {
     "data": {
      "text/html": [
       "<div style=\"max-height:1000px;max-width:1500px;overflow:auto;\">\n",
       "<table border=\"1\" class=\"dataframe\">\n",
       "  <thead>\n",
       "    <tr style=\"text-align: right;\">\n",
       "      <th></th>\n",
       "      <th>date_</th>\n",
       "      <th>dst_</th>\n",
       "      <th>orig_</th>\n",
       "      <th>oid_</th>\n",
       "      <th>size_x</th>\n",
       "      <th>size_y</th>\n",
       "    </tr>\n",
       "  </thead>\n",
       "  <tbody>\n",
       "  </tbody>\n",
       "</table>\n",
       "</div>"
      ],
      "text/plain": [
       "Empty DataFrame\n",
       "Columns: [date_, dst_, orig_, oid_, size_x, size_y]\n",
       "Index: []"
      ]
     },
     "execution_count": 23,
     "metadata": {},
     "output_type": "execute_result"
    }
   ],
   "source": [
    "#merged is empty!\n",
    "merged"
   ]
  },
  {
   "cell_type": "raw",
   "metadata": {},
   "source": [
    "Lets intersect arrival and depature airports for both tables:\n"
   ]
  },
  {
   "cell_type": "code",
   "execution_count": 172,
   "metadata": {
    "collapsed": true
   },
   "outputs": [],
   "source": [
    "arr_s = list(pd.unique(searches.dst_))\n",
    "dep_s = list(pd.unique(searches.orig_))\n"
   ]
  },
  {
   "cell_type": "code",
   "execution_count": 171,
   "metadata": {
    "collapsed": true
   },
   "outputs": [],
   "source": [
    "arr_b = list(pd.unique(bookings.dst_))\n",
    "dep_b = list(pd.unique(bookings.orig_))\n"
   ]
  },
  {
   "cell_type": "code",
   "execution_count": 170,
   "metadata": {
    "collapsed": false
   },
   "outputs": [
    {
     "name": "stdout",
     "output_type": "stream",
     "text": [
      "[]\n"
     ]
    }
   ],
   "source": [
    "intersect = list(set(arr_s) & set(arr_b))\n",
    "print intersect"
   ]
  },
  {
   "cell_type": "code",
   "execution_count": 173,
   "metadata": {
    "collapsed": false
   },
   "outputs": [
    {
     "name": "stdout",
     "output_type": "stream",
     "text": [
      "[]\n"
     ]
    }
   ],
   "source": [
    "intersect = list(set(dep_s) & set(dep_b))\n",
    "print intersect"
   ]
  },
  {
   "cell_type": "raw",
   "metadata": {},
   "source": [
    "Intersection is empty!"
   ]
  }
 ],
 "metadata": {
  "kernelspec": {
   "display_name": "Python 2",
   "language": "python",
   "name": "python2"
  },
  "language_info": {
   "codemirror_mode": {
    "name": "ipython",
    "version": 2
   },
   "file_extension": ".py",
   "mimetype": "text/x-python",
   "name": "python",
   "nbconvert_exporter": "python",
   "pygments_lexer": "ipython2",
   "version": "2.7.5"
  }
 },
 "nbformat": 4,
 "nbformat_minor": 0
}
