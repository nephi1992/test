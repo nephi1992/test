{
 "cells": [
  {
   "cell_type": "code",
   "execution_count": 1,
   "metadata": {
    "collapsed": false
   },
   "outputs": [],
   "source": [
    "import numpy as np\n",
    "import pandas as pd\n",
    "\n"
   ]
  },
  {
   "cell_type": "markdown",
   "metadata": {
    "collapsed": false
   },
   "source": [
    "# 1. num of lines"
   ]
  },
  {
   "cell_type": "code",
   "execution_count": 23,
   "metadata": {
    "collapsed": false
   },
   "outputs": [
    {
     "name": "stdout",
     "output_type": "stream",
     "text": [
      " 10000011 279827136 4244874509 /Users/nephidei/Downloads/bookings.csv\r\n"
     ]
    }
   ],
   "source": [
    "!wc /Users/nephidei/Downloads/bookings.csv"
   ]
  },
  {
   "cell_type": "code",
   "execution_count": 24,
   "metadata": {
    "collapsed": false
   },
   "outputs": [
    {
     "name": "stdout",
     "output_type": "stream",
     "text": [
      " 20390198 20496592 3696229366 /Users/nephidei/Downloads/searches.csv\r\n"
     ]
    }
   ],
   "source": [
    "!wc /Users/nephidei/Downloads/searches.csv"
   ]
  },
  {
   "cell_type": "markdown",
   "metadata": {},
   "source": [
    "# 2. top airports"
   ]
  },
  {
   "cell_type": "markdown",
   "metadata": {},
   "source": [
    "## 2.1. make small parts of data"
   ]
  },
  {
   "cell_type": "code",
   "execution_count": 4,
   "metadata": {
    "collapsed": false
   },
   "outputs": [],
   "source": [
    "import itertools\n",
    "\n",
    "def slicefile(filename, start, end):\n",
    "    lines = open(filename)\n",
    "    return itertools.islice(lines, start, end)"
   ]
  },
  {
   "cell_type": "code",
   "execution_count": 10,
   "metadata": {
    "collapsed": false
   },
   "outputs": [],
   "source": [
    "#way1\n",
    "num = 10000011\n",
    "step = 100000\n",
    "for i in range(0,num, step):\n",
    "    print 'file '+str(i)+' started'\n",
    "    out = open('tables/bookings_'+str(i)+'.csv', \"w\")\n",
    "    for line in slicefile(\"/Users/nephidei/Downloads/bookinhs.csv\", i+1, i+step):\n",
    "        out.writelines(line.replace('^', ';').split('\\n'))\n",
    "    print 'file '+str(i)+' finished'"
   ]
  },
  {
   "cell_type": "code",
   "execution_count": 20,
   "metadata": {
    "collapsed": false
   },
   "outputs": [
    {
     "name": "stdout",
     "output_type": "stream",
     "text": [
      "101\n"
     ]
    }
   ],
   "source": [
    "#way2\n",
    "LINES_TO_FLUSH = 100000\n",
    "with open(\"/Users/nephidei/Downloads/bookings.csv\") as source_file:\n",
    "    out_buf = []\n",
    "    out_index = 1\n",
    "    for i, line in enumerate(source_file):\n",
    "        if i == 0:\n",
    "            continue\n",
    "        #print 'file '+str(i)+' started'\n",
    "        out_buf.append(line.replace('^', ';'))\n",
    "        if len(out_buf) == LINES_TO_FLUSH:\n",
    "            with open('tables/bookings_'+str(out_index)+'.csv', \"w\") as part_file:\n",
    "                part_file.writelines(out_buf)\n",
    "            out_index += 1\n",
    "            out_buf = []  \n",
    "    print out_index "
   ]
  },
  {
   "cell_type": "code",
   "execution_count": 10,
   "metadata": {
    "collapsed": false
   },
   "outputs": [
    {
     "name": "stdout",
     "output_type": "stream",
     "text": [
      "['act_date', 'source', 'pos_ctry', 'pos_iata', 'pos_oid', 'rloc', 'cre_date', 'duration', 'distance', 'dep_port', 'dep_city', 'dep_ctry', 'arr_port', 'arr_city', 'arr_ctry', 'lst_port', 'lst_city', 'lst_ctry', 'brd_port', 'brd_city', 'brd_ctry', 'off_port', 'off_city', 'off_ctry', 'mkt_port', 'mkt_city', 'mkt_ctry', 'intl', 'route', 'carrier', 'bkg_class', 'cab_class', 'brd_time', 'off_time', 'pax', 'year', 'month', 'oid']\n"
     ]
    }
   ],
   "source": [
    "table_names = list(slicefile(\"/Users/nephidei/Downloads/bookings.csv\", 0, 1))[0].rstrip().replace('^', ';').split(';')\n",
    "for i,name in enumerate(table_names):\n",
    "    table_names[i] = name.replace(' ', '')\n",
    "\n",
    "print table_names\n"
   ]
  },
  {
   "cell_type": "code",
   "execution_count": 40,
   "metadata": {
    "collapsed": false
   },
   "outputs": [
    {
     "data": {
      "text/html": [
       "<div style=\"max-height:1000px;max-width:1500px;overflow:auto;\">\n",
       "<table border=\"1\" class=\"dataframe\">\n",
       "  <thead>\n",
       "    <tr style=\"text-align: right;\">\n",
       "      <th></th>\n",
       "      <th>act_date</th>\n",
       "      <th>source</th>\n",
       "      <th>pos_ctry</th>\n",
       "      <th>pos_iata</th>\n",
       "      <th>pos_oid</th>\n",
       "      <th>rloc</th>\n",
       "      <th>cre_date</th>\n",
       "      <th>duration</th>\n",
       "      <th>distance</th>\n",
       "      <th>dep_port</th>\n",
       "      <th>...</th>\n",
       "      <th>route</th>\n",
       "      <th>carrier</th>\n",
       "      <th>bkg_class</th>\n",
       "      <th>cab_class</th>\n",
       "      <th>brd_time</th>\n",
       "      <th>off_time</th>\n",
       "      <th>pax</th>\n",
       "      <th>year</th>\n",
       "      <th>month</th>\n",
       "      <th>oid</th>\n",
       "    </tr>\n",
       "  </thead>\n",
       "  <tbody>\n",
       "    <tr>\n",
       "      <th>0</th>\n",
       "      <td> 2013-03-05 00:00:00</td>\n",
       "      <td> 1A    </td>\n",
       "      <td> DE      </td>\n",
       "      <td> a68dd7ae953c8acfb187a1af2dcbe123</td>\n",
       "      <td> 1a11ae49fcbf545fd2afc1a24d88d2b7</td>\n",
       "      <td> ea65900e72d71f4626378e2ebd298267</td>\n",
       "      <td> 2013-02-22 00:00:00</td>\n",
       "      <td>   1708</td>\n",
       "      <td> 0</td>\n",
       "      <td> ZRH     </td>\n",
       "      <td>...</td>\n",
       "      <td> LHRZRH         </td>\n",
       "      <td> VI</td>\n",
       "      <td> T        </td>\n",
       "      <td> Y        </td>\n",
       "      <td> 2013-03-07 08:50:00</td>\n",
       "      <td> 2013-03-07 11:33:37</td>\n",
       "      <td>-1</td>\n",
       "      <td> 2013</td>\n",
       "      <td> 3</td>\n",
       "      <td> NULL     </td>\n",
       "    </tr>\n",
       "    <tr>\n",
       "      <th>1</th>\n",
       "      <td> 2013-03-26 00:00:00</td>\n",
       "      <td> 1A    </td>\n",
       "      <td> US      </td>\n",
       "      <td> e612b9eeeee6f17f42d9b0d3b79e75ca</td>\n",
       "      <td> 7437560d8f276d6d05eeb806d9e7edee</td>\n",
       "      <td> 737295a86982c941f1c2da9a46a14043</td>\n",
       "      <td> 2013-03-26 00:00:00</td>\n",
       "      <td> 135270</td>\n",
       "      <td> 0</td>\n",
       "      <td> SAL     </td>\n",
       "      <td>...</td>\n",
       "      <td> SALATLCLT      </td>\n",
       "      <td> NV</td>\n",
       "      <td> L        </td>\n",
       "      <td> Y        </td>\n",
       "      <td> 2013-04-12 13:04:00</td>\n",
       "      <td> 2013-04-12 22:05:40</td>\n",
       "      <td> 1</td>\n",
       "      <td> 2013</td>\n",
       "      <td> 3</td>\n",
       "      <td> NULL     </td>\n",
       "    </tr>\n",
       "    <tr>\n",
       "      <th>2</th>\n",
       "      <td> 2013-03-26 00:00:00</td>\n",
       "      <td> 1A    </td>\n",
       "      <td> US      </td>\n",
       "      <td> e612b9eeeee6f17f42d9b0d3b79e75ca</td>\n",
       "      <td> 7437560d8f276d6d05eeb806d9e7edee</td>\n",
       "      <td> 737295a86982c941f1c2da9a46a14043</td>\n",
       "      <td> 2013-03-26 00:00:00</td>\n",
       "      <td> 135270</td>\n",
       "      <td> 0</td>\n",
       "      <td> SAL     </td>\n",
       "      <td>...</td>\n",
       "      <td> CLTATLSAL      </td>\n",
       "      <td> NV</td>\n",
       "      <td> U        </td>\n",
       "      <td> Y        </td>\n",
       "      <td> 2013-07-15 07:00:00</td>\n",
       "      <td> 2013-07-15 11:34:51</td>\n",
       "      <td> 1</td>\n",
       "      <td> 2013</td>\n",
       "      <td> 3</td>\n",
       "      <td> NULL     </td>\n",
       "    </tr>\n",
       "    <tr>\n",
       "      <th>3</th>\n",
       "      <td> 2013-03-26 00:00:00</td>\n",
       "      <td> 1A    </td>\n",
       "      <td> AU      </td>\n",
       "      <td> 0f984b3bb6bd06661c95529bbd6193bc</td>\n",
       "      <td> 36472c6dbaf7afec9136ac40364e2794</td>\n",
       "      <td> 5ecf00fdcbcec761c43dc7285253d0c1</td>\n",
       "      <td> 2013-03-26 00:00:00</td>\n",
       "      <td>  30885</td>\n",
       "      <td> 0</td>\n",
       "      <td> AKL     </td>\n",
       "      <td>...</td>\n",
       "      <td> AKLHKGSVO      </td>\n",
       "      <td> XK</td>\n",
       "      <td> G        </td>\n",
       "      <td> Y        </td>\n",
       "      <td> 2013-04-24 23:59:00</td>\n",
       "      <td> 2013-04-25 16:06:31</td>\n",
       "      <td> 1</td>\n",
       "      <td> 2013</td>\n",
       "      <td> 3</td>\n",
       "      <td> SYDA82546</td>\n",
       "    </tr>\n",
       "    <tr>\n",
       "      <th>4</th>\n",
       "      <td> 2013-03-26 00:00:00</td>\n",
       "      <td> 1A    </td>\n",
       "      <td> AU      </td>\n",
       "      <td> 0f984b3bb6bd06661c95529bbd6193bc</td>\n",
       "      <td> 36472c6dbaf7afec9136ac40364e2794</td>\n",
       "      <td> 5ecf00fdcbcec761c43dc7285253d0c1</td>\n",
       "      <td> 2013-03-26 00:00:00</td>\n",
       "      <td>  30885</td>\n",
       "      <td> 0</td>\n",
       "      <td> AKL     </td>\n",
       "      <td>...</td>\n",
       "      <td> SVOHKGAKL      </td>\n",
       "      <td> XK</td>\n",
       "      <td> G        </td>\n",
       "      <td> Y        </td>\n",
       "      <td> 2013-05-14 20:15:00</td>\n",
       "      <td> 2013-05-16 10:44:50</td>\n",
       "      <td> 1</td>\n",
       "      <td> 2013</td>\n",
       "      <td> 3</td>\n",
       "      <td> SYDA82546</td>\n",
       "    </tr>\n",
       "  </tbody>\n",
       "</table>\n",
       "<p>5 rows × 38 columns</p>\n",
       "</div>"
      ],
      "text/plain": [
       "              act_date  source  pos_ctry                          pos_iata  \\\n",
       "0  2013-03-05 00:00:00  1A      DE        a68dd7ae953c8acfb187a1af2dcbe123   \n",
       "1  2013-03-26 00:00:00  1A      US        e612b9eeeee6f17f42d9b0d3b79e75ca   \n",
       "2  2013-03-26 00:00:00  1A      US        e612b9eeeee6f17f42d9b0d3b79e75ca   \n",
       "3  2013-03-26 00:00:00  1A      AU        0f984b3bb6bd06661c95529bbd6193bc   \n",
       "4  2013-03-26 00:00:00  1A      AU        0f984b3bb6bd06661c95529bbd6193bc   \n",
       "\n",
       "                            pos_oid                              rloc  \\\n",
       "0  1a11ae49fcbf545fd2afc1a24d88d2b7  ea65900e72d71f4626378e2ebd298267   \n",
       "1  7437560d8f276d6d05eeb806d9e7edee  737295a86982c941f1c2da9a46a14043   \n",
       "2  7437560d8f276d6d05eeb806d9e7edee  737295a86982c941f1c2da9a46a14043   \n",
       "3  36472c6dbaf7afec9136ac40364e2794  5ecf00fdcbcec761c43dc7285253d0c1   \n",
       "4  36472c6dbaf7afec9136ac40364e2794  5ecf00fdcbcec761c43dc7285253d0c1   \n",
       "\n",
       "              cre_date  duration  distance  dep_port    ...     \\\n",
       "0  2013-02-22 00:00:00      1708         0  ZRH         ...      \n",
       "1  2013-03-26 00:00:00    135270         0  SAL         ...      \n",
       "2  2013-03-26 00:00:00    135270         0  SAL         ...      \n",
       "3  2013-03-26 00:00:00     30885         0  AKL         ...      \n",
       "4  2013-03-26 00:00:00     30885         0  AKL         ...      \n",
       "\n",
       "             route carrier  bkg_class  cab_class             brd_time  \\\n",
       "0  LHRZRH               VI  T          Y          2013-03-07 08:50:00   \n",
       "1  SALATLCLT            NV  L          Y          2013-04-12 13:04:00   \n",
       "2  CLTATLSAL            NV  U          Y          2013-07-15 07:00:00   \n",
       "3  AKLHKGSVO            XK  G          Y          2013-04-24 23:59:00   \n",
       "4  SVOHKGAKL            XK  G          Y          2013-05-14 20:15:00   \n",
       "\n",
       "              off_time pax  year month        oid  \n",
       "0  2013-03-07 11:33:37  -1  2013     3  NULL       \n",
       "1  2013-04-12 22:05:40   1  2013     3  NULL       \n",
       "2  2013-07-15 11:34:51   1  2013     3  NULL       \n",
       "3  2013-04-25 16:06:31   1  2013     3  SYDA82546  \n",
       "4  2013-05-16 10:44:50   1  2013     3  SYDA82546  \n",
       "\n",
       "[5 rows x 38 columns]"
      ]
     },
     "execution_count": 40,
     "metadata": {},
     "output_type": "execute_result"
    }
   ],
   "source": [
    "ex = pd.read_csv('tables/bookings_1.csv', sep = ';', names = table_names)\n",
    "ex.head()"
   ]
  },
  {
   "cell_type": "code",
   "execution_count": 28,
   "metadata": {
    "collapsed": false
   },
   "outputs": [],
   "source": [
    "def get_top(df):\n",
    "    df.act_date2 = pd.Series([x.split('-')[0] for x in df.act_date.tolist()])\n",
    "    df = df[df.act_date2 == '2013']\n",
    "    top = df.groupby(['arr_port']).sum().reset_index()[['arr_port', 'pax']]\n",
    "    return top\n",
    "                                                              "
   ]
  },
  {
   "cell_type": "code",
   "execution_count": 31,
   "metadata": {
    "collapsed": false
   },
   "outputs": [],
   "source": [
    "from os import listdir\n",
    "files = listdir('tables')"
   ]
  },
  {
   "cell_type": "code",
   "execution_count": 42,
   "metadata": {
    "collapsed": false,
    "scrolled": true
   },
   "outputs": [
    {
     "name": "stdout",
     "output_type": "stream",
     "text": [
      "bookings_1.csv\n",
      "bookings_10.csv\n",
      "bookings_100.csv\n",
      "bookings_11.csv\n",
      "bookings_12.csv\n",
      "bookings_13.csv\n",
      "bookings_14.csv\n",
      "bookings_15.csv\n",
      "bookings_16.csv\n",
      "bookings_17.csv\n",
      "bookings_18.csv\n",
      "bookings_19.csv\n",
      "bookings_2.csv\n",
      "bookings_20.csv\n",
      "bookings_21.csv\n",
      "bookings_22.csv\n",
      "bookings_23.csv\n",
      "bookings_24.csv\n",
      "bookings_25.csv\n",
      "bookings_26.csv\n",
      "bookings_27.csv\n",
      "bookings_28.csv\n",
      "bookings_29.csv\n",
      "bookings_3.csv\n",
      "bookings_30.csv\n",
      "bookings_31.csv\n",
      "bookings_32.csv\n",
      "bookings_33.csv\n",
      "bookings_34.csv\n",
      "bookings_35.csv\n",
      "bookings_36.csv\n",
      "bookings_37.csv\n",
      "bookings_38.csv\n",
      "bookings_39.csv\n",
      "bookings_4.csv\n",
      "bookings_40.csv\n",
      "bookings_41.csv\n",
      "bookings_42.csv\n",
      "bookings_43.csv\n",
      "bookings_44.csv\n",
      "bookings_45.csv\n",
      "bookings_46.csv\n",
      "bookings_47.csv\n",
      "bookings_48.csv\n",
      "bookings_49.csv\n",
      "bookings_5.csv\n",
      "bookings_50.csv\n",
      "bookings_51.csv\n",
      "bookings_52.csv\n",
      "bookings_53.csv\n",
      "bookings_54.csv\n",
      "bookings_55.csv\n",
      "bookings_56.csv\n",
      "bookings_57.csv\n",
      "bookings_58.csv\n",
      "bookings_59.csv\n",
      "bookings_6.csv\n",
      "bookings_60.csv\n",
      "bookings_61.csv\n",
      "bookings_62.csv\n",
      "bookings_63.csv\n",
      "bookings_64.csv\n",
      "bookings_65.csv\n",
      "bookings_66.csv\n",
      "bookings_67.csv\n",
      "bookings_68.csv\n",
      "bookings_69.csv\n",
      "bookings_7.csv\n",
      "bookings_70.csv\n",
      "bookings_71.csv\n",
      "bookings_72.csv\n",
      "bookings_73.csv\n",
      "bookings_74.csv\n",
      "bookings_75.csv\n",
      "bookings_76.csv\n",
      "bookings_77.csv\n",
      "bookings_78.csv\n",
      "bookings_79.csv\n",
      "bookings_8.csv\n",
      "bookings_80.csv\n",
      "bookings_81.csv\n",
      "bookings_82.csv\n",
      "bookings_83.csv\n",
      "bookings_84.csv\n",
      "bookings_85.csv\n",
      "bookings_86.csv\n",
      "bookings_87.csv\n",
      "bookings_88.csv\n",
      "bookings_89.csv\n",
      "bookings_9.csv\n",
      "bookings_90.csv\n",
      "bookings_91.csv\n",
      "bookings_92.csv\n",
      "bookings_93.csv\n",
      "bookings_94.csv\n",
      "bookings_95.csv\n",
      "bookings_96.csv\n",
      "bookings_97.csv\n",
      "bookings_98.csv\n",
      "bookings_99.csv\n"
     ]
    }
   ],
   "source": [
    "res = pd.DataFrame()\n",
    "for f in files:\n",
    "    df = pd.read_csv('tables/'+f, sep = ';', names = table_names)\n",
    "    res = res.append(get_top(df))\n",
    "    print f\n",
    "    del(df)"
   ]
  },
  {
   "cell_type": "code",
   "execution_count": 46,
   "metadata": {
    "collapsed": false
   },
   "outputs": [
    {
     "name": "stdout",
     "output_type": "stream",
     "text": [
      "      arr_port    pax\n",
      "1088  LHR       88809\n",
      "1190  MCO       70930\n",
      "1050  LAX       70530\n",
      "1047  LAS       69626\n",
      "886   JFK       66270\n",
      "315   CDG       64490\n",
      "216   BKK       59460\n",
      "1228  MIA       58150\n",
      "1719  SFO       58000\n",
      "517   DXB       55590\n"
     ]
    }
   ],
   "source": [
    "print res.groupby('arr_port').sum().reset_index().sort('pax', ascending = False)[:10]"
   ]
  },
  {
   "cell_type": "code",
   "execution_count": null,
   "metadata": {
    "collapsed": true
   },
   "outputs": [],
   "source": []
  }
 ],
 "metadata": {
  "kernelspec": {
   "display_name": "Python 2",
   "language": "python",
   "name": "python2"
  },
  "language_info": {
   "codemirror_mode": {
    "name": "ipython",
    "version": 2
   },
   "file_extension": ".py",
   "mimetype": "text/x-python",
   "name": "python",
   "nbconvert_exporter": "python",
   "pygments_lexer": "ipython2",
   "version": "2.7.5"
  }
 },
 "nbformat": 4,
 "nbformat_minor": 0
}
