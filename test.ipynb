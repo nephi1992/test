{
 "cells": [
  {
   "cell_type": "code",
   "execution_count": 3,
   "metadata": {
    "collapsed": false
   },
   "outputs": [],
   "source": [
    "import numpy as np\n",
    "import pandas as pd\n",
    "\n"
   ]
  },
  {
   "cell_type": "markdown",
   "metadata": {
    "collapsed": false
   },
   "source": [
    "# 1. num of lines"
   ]
  },
  {
   "cell_type": "code",
   "execution_count": 23,
   "metadata": {
    "collapsed": false
   },
   "outputs": [
    {
     "name": "stdout",
     "output_type": "stream",
     "text": [
      " 10000011 279827136 4244874509 /Users/nephidei/Downloads/bookings.csv\r\n"
     ]
    }
   ],
   "source": [
    "!wc /Users/nephidei/Downloads/bookings.csv"
   ]
  },
  {
   "cell_type": "code",
   "execution_count": 24,
   "metadata": {
    "collapsed": false
   },
   "outputs": [
    {
     "name": "stdout",
     "output_type": "stream",
     "text": [
      " 20390198 20496592 3696229366 /Users/nephidei/Downloads/searches.csv\r\n"
     ]
    }
   ],
   "source": [
    "!wc /Users/nephidei/Downloads/searches.csv"
   ]
  },
  {
   "cell_type": "markdown",
   "metadata": {},
   "source": [
    "# 2. top airports"
   ]
  },
  {
   "cell_type": "markdown",
   "metadata": {},
   "source": [
    "## 2.1. make small parts of data"
   ]
  },
  {
   "cell_type": "code",
   "execution_count": 8,
   "metadata": {
    "collapsed": false
   },
   "outputs": [],
   "source": [
    "import itertools\n",
    "\n",
    "def slicefile(filename, start, end):\n",
    "    lines = open(filename)\n",
    "    return itertools.islice(lines, start, end)"
   ]
  },
  {
   "cell_type": "code",
   "execution_count": 10,
   "metadata": {
    "collapsed": false
   },
   "outputs": [],
   "source": [
    "#way1\n",
    "num = 10000011\n",
    "step = 100000\n",
    "for i in range(0,num, step):\n",
    "    print 'file '+str(i)+' started'\n",
    "    out = open('tables/bookings_'+str(i)+'.csv', \"w\")\n",
    "    for line in slicefile(\"/Users/nephidei/Downloads/bookinhs.csv\", i+1, i+step):\n",
    "        out.writelines(line.replace('^', ';').split('\\n'))\n",
    "    print 'file '+str(i)+' finished'"
   ]
  },
  {
   "cell_type": "code",
   "execution_count": 20,
   "metadata": {
    "collapsed": false
   },
   "outputs": [
    {
     "name": "stdout",
     "output_type": "stream",
     "text": [
      "101\n"
     ]
    }
   ],
   "source": [
    "#way2\n",
    "LINES_TO_FLUSH = 100000\n",
    "with open(\"/Users/nephidei/Downloads/bookings.csv\") as source_file:\n",
    "    out_buf = []\n",
    "    out_index = 1\n",
    "    for i, line in enumerate(source_file):\n",
    "        if i == 0:\n",
    "            continue\n",
    "        #print 'file '+str(i)+' started'\n",
    "        out_buf.append(line.replace('^', ';'))\n",
    "        if len(out_buf) == LINES_TO_FLUSH:\n",
    "            with open('tables/bookings_'+str(out_index)+'.csv', \"w\") as part_file:\n",
    "                part_file.writelines(out_buf)\n",
    "            out_index += 1\n",
    "            out_buf = []  \n",
    "    print out_index "
   ]
  },
  {
   "cell_type": "code",
   "execution_count": 21,
   "metadata": {
    "collapsed": false
   },
   "outputs": [],
   "source": [
    "table_names = list(slicefile(\"/Users/nephidei/Downloads/bookings.csv\", 0, 1))[0].rstrip().replace('^', ';')\n"
   ]
  },
  {
   "cell_type": "code",
   "execution_count": 22,
   "metadata": {
    "collapsed": false
   },
   "outputs": [
    {
     "data": {
      "text/html": [
       "<div style=\"max-height:1000px;max-width:1500px;overflow:auto;\">\n",
       "<table border=\"1\" class=\"dataframe\">\n",
       "  <thead>\n",
       "    <tr style=\"text-align: right;\">\n",
       "      <th></th>\n",
       "      <th>2013-03-05 00:00:00</th>\n",
       "      <th>1A    </th>\n",
       "      <th>DE      </th>\n",
       "      <th>a68dd7ae953c8acfb187a1af2dcbe123</th>\n",
       "      <th>1a11ae49fcbf545fd2afc1a24d88d2b7</th>\n",
       "      <th>ea65900e72d71f4626378e2ebd298267</th>\n",
       "      <th>2013-02-22 00:00:00</th>\n",
       "      <th>1708</th>\n",
       "      <th>0</th>\n",
       "      <th>ZRH     </th>\n",
       "      <th>...</th>\n",
       "      <th>LHRZRH         </th>\n",
       "      <th>VI</th>\n",
       "      <th>T        </th>\n",
       "      <th>Y        </th>\n",
       "      <th>2013-03-07 08:50:00</th>\n",
       "      <th>2013-03-07 11:33:37</th>\n",
       "      <th>-1</th>\n",
       "      <th>2013</th>\n",
       "      <th>3</th>\n",
       "      <th>NULL     </th>\n",
       "    </tr>\n",
       "  </thead>\n",
       "  <tbody>\n",
       "    <tr>\n",
       "      <th>0</th>\n",
       "      <td> 2013-03-26 00:00:00</td>\n",
       "      <td> 1A    </td>\n",
       "      <td> US      </td>\n",
       "      <td> e612b9eeeee6f17f42d9b0d3b79e75ca</td>\n",
       "      <td> 7437560d8f276d6d05eeb806d9e7edee</td>\n",
       "      <td> 737295a86982c941f1c2da9a46a14043</td>\n",
       "      <td> 2013-03-26 00:00:00</td>\n",
       "      <td> 135270</td>\n",
       "      <td> 0</td>\n",
       "      <td> SAL     </td>\n",
       "      <td>...</td>\n",
       "      <td> SALATLCLT      </td>\n",
       "      <td> NV</td>\n",
       "      <td> L        </td>\n",
       "      <td> Y        </td>\n",
       "      <td> 2013-04-12 13:04:00</td>\n",
       "      <td> 2013-04-12 22:05:40</td>\n",
       "      <td> 1</td>\n",
       "      <td> 2013</td>\n",
       "      <td> 3</td>\n",
       "      <td> NULL     </td>\n",
       "    </tr>\n",
       "    <tr>\n",
       "      <th>1</th>\n",
       "      <td> 2013-03-26 00:00:00</td>\n",
       "      <td> 1A    </td>\n",
       "      <td> US      </td>\n",
       "      <td> e612b9eeeee6f17f42d9b0d3b79e75ca</td>\n",
       "      <td> 7437560d8f276d6d05eeb806d9e7edee</td>\n",
       "      <td> 737295a86982c941f1c2da9a46a14043</td>\n",
       "      <td> 2013-03-26 00:00:00</td>\n",
       "      <td> 135270</td>\n",
       "      <td> 0</td>\n",
       "      <td> SAL     </td>\n",
       "      <td>...</td>\n",
       "      <td> CLTATLSAL      </td>\n",
       "      <td> NV</td>\n",
       "      <td> U        </td>\n",
       "      <td> Y        </td>\n",
       "      <td> 2013-07-15 07:00:00</td>\n",
       "      <td> 2013-07-15 11:34:51</td>\n",
       "      <td> 1</td>\n",
       "      <td> 2013</td>\n",
       "      <td> 3</td>\n",
       "      <td> NULL     </td>\n",
       "    </tr>\n",
       "    <tr>\n",
       "      <th>2</th>\n",
       "      <td> 2013-03-26 00:00:00</td>\n",
       "      <td> 1A    </td>\n",
       "      <td> AU      </td>\n",
       "      <td> 0f984b3bb6bd06661c95529bbd6193bc</td>\n",
       "      <td> 36472c6dbaf7afec9136ac40364e2794</td>\n",
       "      <td> 5ecf00fdcbcec761c43dc7285253d0c1</td>\n",
       "      <td> 2013-03-26 00:00:00</td>\n",
       "      <td>  30885</td>\n",
       "      <td> 0</td>\n",
       "      <td> AKL     </td>\n",
       "      <td>...</td>\n",
       "      <td> AKLHKGSVO      </td>\n",
       "      <td> XK</td>\n",
       "      <td> G        </td>\n",
       "      <td> Y        </td>\n",
       "      <td> 2013-04-24 23:59:00</td>\n",
       "      <td> 2013-04-25 16:06:31</td>\n",
       "      <td> 1</td>\n",
       "      <td> 2013</td>\n",
       "      <td> 3</td>\n",
       "      <td> SYDA82546</td>\n",
       "    </tr>\n",
       "    <tr>\n",
       "      <th>3</th>\n",
       "      <td> 2013-03-26 00:00:00</td>\n",
       "      <td> 1A    </td>\n",
       "      <td> AU      </td>\n",
       "      <td> 0f984b3bb6bd06661c95529bbd6193bc</td>\n",
       "      <td> 36472c6dbaf7afec9136ac40364e2794</td>\n",
       "      <td> 5ecf00fdcbcec761c43dc7285253d0c1</td>\n",
       "      <td> 2013-03-26 00:00:00</td>\n",
       "      <td>  30885</td>\n",
       "      <td> 0</td>\n",
       "      <td> AKL     </td>\n",
       "      <td>...</td>\n",
       "      <td> SVOHKGAKL      </td>\n",
       "      <td> XK</td>\n",
       "      <td> G        </td>\n",
       "      <td> Y        </td>\n",
       "      <td> 2013-05-14 20:15:00</td>\n",
       "      <td> 2013-05-16 10:44:50</td>\n",
       "      <td> 1</td>\n",
       "      <td> 2013</td>\n",
       "      <td> 3</td>\n",
       "      <td> SYDA82546</td>\n",
       "    </tr>\n",
       "    <tr>\n",
       "      <th>4</th>\n",
       "      <td> 2013-03-20 00:00:00</td>\n",
       "      <td> 1V    </td>\n",
       "      <td> US      </td>\n",
       "      <td> 0283592e45e392871f7e14b1e22a9aaf</td>\n",
       "      <td> 2d0f8e7e1bb792625d2f34f221bc38f1</td>\n",
       "      <td> d54708298686de200f8270e7c637af5e</td>\n",
       "      <td> 2013-03-20 00:00:00</td>\n",
       "      <td>   5923</td>\n",
       "      <td> 0</td>\n",
       "      <td> DEN     </td>\n",
       "      <td>...</td>\n",
       "      <td> DENLGA         </td>\n",
       "      <td> FK</td>\n",
       "      <td> W        </td>\n",
       "      <td> Y        </td>\n",
       "      <td> 2013-04-07 10:23:00</td>\n",
       "      <td> 2013-04-07 16:14:24</td>\n",
       "      <td> 1</td>\n",
       "      <td> 2013</td>\n",
       "      <td> 3</td>\n",
       "      <td> NULL     </td>\n",
       "    </tr>\n",
       "  </tbody>\n",
       "</table>\n",
       "<p>5 rows × 38 columns</p>\n",
       "</div>"
      ],
      "text/plain": [
       "   2013-03-05 00:00:00  1A      DE        a68dd7ae953c8acfb187a1af2dcbe123  \\\n",
       "0  2013-03-26 00:00:00  1A      US        e612b9eeeee6f17f42d9b0d3b79e75ca   \n",
       "1  2013-03-26 00:00:00  1A      US        e612b9eeeee6f17f42d9b0d3b79e75ca   \n",
       "2  2013-03-26 00:00:00  1A      AU        0f984b3bb6bd06661c95529bbd6193bc   \n",
       "3  2013-03-26 00:00:00  1A      AU        0f984b3bb6bd06661c95529bbd6193bc   \n",
       "4  2013-03-20 00:00:00  1V      US        0283592e45e392871f7e14b1e22a9aaf   \n",
       "\n",
       "   1a11ae49fcbf545fd2afc1a24d88d2b7  ea65900e72d71f4626378e2ebd298267  \\\n",
       "0  7437560d8f276d6d05eeb806d9e7edee  737295a86982c941f1c2da9a46a14043   \n",
       "1  7437560d8f276d6d05eeb806d9e7edee  737295a86982c941f1c2da9a46a14043   \n",
       "2  36472c6dbaf7afec9136ac40364e2794  5ecf00fdcbcec761c43dc7285253d0c1   \n",
       "3  36472c6dbaf7afec9136ac40364e2794  5ecf00fdcbcec761c43dc7285253d0c1   \n",
       "4  2d0f8e7e1bb792625d2f34f221bc38f1  d54708298686de200f8270e7c637af5e   \n",
       "\n",
       "   2013-02-22 00:00:00    1708  0  ZRH         ...     LHRZRH           VI  \\\n",
       "0  2013-03-26 00:00:00  135270  0  SAL         ...     SALATLCLT        NV   \n",
       "1  2013-03-26 00:00:00  135270  0  SAL         ...     CLTATLSAL        NV   \n",
       "2  2013-03-26 00:00:00   30885  0  AKL         ...     AKLHKGSVO        XK   \n",
       "3  2013-03-26 00:00:00   30885  0  AKL         ...     SVOHKGAKL        XK   \n",
       "4  2013-03-20 00:00:00    5923  0  DEN         ...     DENLGA           FK   \n",
       "\n",
       "   T          Y          2013-03-07 08:50:00  2013-03-07 11:33:37 -1  2013  3  \\\n",
       "0  L          Y          2013-04-12 13:04:00  2013-04-12 22:05:40  1  2013  3   \n",
       "1  U          Y          2013-07-15 07:00:00  2013-07-15 11:34:51  1  2013  3   \n",
       "2  G          Y          2013-04-24 23:59:00  2013-04-25 16:06:31  1  2013  3   \n",
       "3  G          Y          2013-05-14 20:15:00  2013-05-16 10:44:50  1  2013  3   \n",
       "4  W          Y          2013-04-07 10:23:00  2013-04-07 16:14:24  1  2013  3   \n",
       "\n",
       "   NULL       \n",
       "0  NULL       \n",
       "1  NULL       \n",
       "2  SYDA82546  \n",
       "3  SYDA82546  \n",
       "4  NULL       \n",
       "\n",
       "[5 rows x 38 columns]"
      ]
     },
     "execution_count": 22,
     "metadata": {},
     "output_type": "execute_result"
    }
   ],
   "source": [
    "ex = pd.read_csv('tables/bookings_1.csv', sep = ';')\n",
    "ex.head()"
   ]
  },
  {
   "cell_type": "code",
   "execution_count": null,
   "metadata": {
    "collapsed": false
   },
   "outputs": [],
   "source": []
  },
  {
   "cell_type": "code",
   "execution_count": null,
   "metadata": {
    "collapsed": true
   },
   "outputs": [],
   "source": []
  }
 ],
 "metadata": {
  "kernelspec": {
   "display_name": "Python 2",
   "language": "python",
   "name": "python2"
  },
  "language_info": {
   "codemirror_mode": {
    "name": "ipython",
    "version": 2
   },
   "file_extension": ".py",
   "mimetype": "text/x-python",
   "name": "python",
   "nbconvert_exporter": "python",
   "pygments_lexer": "ipython2",
   "version": "2.7.5"
  }
 },
 "nbformat": 4,
 "nbformat_minor": 0
}
